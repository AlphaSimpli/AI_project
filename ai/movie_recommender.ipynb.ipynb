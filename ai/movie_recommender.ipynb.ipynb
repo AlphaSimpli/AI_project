{
 "cells": [
  {
   "metadata": {},
   "cell_type": "markdown",
   "source": [
    "#  Système de Recommandation de Films\n",
    "\n",
    "Ce notebook démontre un système de recommandation de films utilisant le filtrage collaboratif basé sur la similarité cosinus.  \n",
    "Nous allons :\n",
    "- Charger et prétraiter les données des films et des notes des utilisateurs.\n",
    "- Calculer la similarité entre les films en fonction des genres.\n",
    "- Calculer la similarité entre les utilisateurs en fonction de leurs évaluations.\n",
    "- Implémenter un système de recommandation hybride combinant filtrage collaboratif et basé sur le contenu.\n",
    "- Construire une interface simple avec Streamlit pour interagir avec le système."
   ],
   "id": "a4741f37f7547b48"
  },
  {
   "metadata": {
    "ExecuteTime": {
     "end_time": "2025-03-28T14:08:59.429648Z",
     "start_time": "2025-03-28T14:08:59.416171Z"
    }
   },
   "cell_type": "code",
   "source": [
    "import pandas as pd\n",
    "import re\n",
    "import requests\n",
    "from sklearn.metrics.pairwise import cosine_similarity\n",
    "import streamlit as st\n",
    "from sklearn.preprocessing import MultiLabelBinarizer\n",
    "import IPython.display as display\n",
    "from PIL import Image\n",
    "import urllib"
   ],
   "id": "913d02c9a7ddaab9",
   "outputs": [],
   "execution_count": 13
  },
  {
   "metadata": {},
   "cell_type": "markdown",
   "source": [
    "##  Chargement des données\n",
    "Nous chargeons deux fichiers CSV :\n",
    "- `movies.csv` : contient les informations sur les films (titres, genres, etc.).\n",
    "- `ratings.csv` : contient les notes attribuées par les utilisateurs aux films."
   ],
   "id": "5600722eb4736aa6"
  },
  {
   "metadata": {
    "ExecuteTime": {
     "end_time": "2025-03-28T14:08:59.575702Z",
     "start_time": "2025-03-28T14:08:59.487804Z"
    }
   },
   "cell_type": "code",
   "source": [
    "movies = pd.read_csv(\"/Users/ousmanediallo/Downloads/movies.csv\")\n",
    "ratings = pd.read_csv(\"/Users/ousmanediallo/Downloads/ratings.csv\")"
   ],
   "id": "9adcee3f87fe42ae",
   "outputs": [],
   "execution_count": 14
  },
  {
   "metadata": {},
   "cell_type": "markdown",
   "source": [
    "##  Prétraitement des genres des films\n",
    "Nous transformons les genres en listes et les binarisons pour obtenir une matrice exploitable."
   ],
   "id": "50a6302bea6d1968"
  },
  {
   "metadata": {
    "ExecuteTime": {
     "end_time": "2025-03-28T14:08:59.619982Z",
     "start_time": "2025-03-28T14:08:59.578458Z"
    }
   },
   "cell_type": "code",
   "source": [
    "movies['genres'] = movies['genres'].apply(lambda x: x.split('|'))\n",
    "mlb = MultiLabelBinarizer()\n",
    "genre_matrix = mlb.fit_transform(movies['genres'])\n",
    "genre_df = pd.DataFrame(genre_matrix, columns=mlb.classes_, index=movies['movieId'])"
   ],
   "id": "8a37819e86fbea6",
   "outputs": [],
   "execution_count": 15
  },
  {
   "metadata": {},
   "cell_type": "markdown",
   "source": [
    "##  Calcul de la similarité entre films\n",
    "Nous utilisons la similarité cosinus pour comparer les films en fonction de leurs genres."
   ],
   "id": "47c10500d430a398"
  },
  {
   "metadata": {
    "ExecuteTime": {
     "end_time": "2025-03-28T14:09:00.347541Z",
     "start_time": "2025-03-28T14:08:59.622096Z"
    }
   },
   "cell_type": "code",
   "source": [
    "content_similarity = cosine_similarity(genre_df)\n",
    "content_similarity_df = pd.DataFrame(content_similarity, index=movies['movieId'], columns=movies['movieId'])"
   ],
   "id": "355d6726ed5bf6bd",
   "outputs": [],
   "execution_count": 16
  },
  {
   "metadata": {},
   "cell_type": "markdown",
   "source": [
    "\n",
    "##  Création d'une matrice utilisateur-film\n",
    "Nous structurons les notes attribuées par les utilisateurs sous forme de matrice.\n"
   ],
   "id": "ae88529c40f274d3"
  },
  {
   "metadata": {
    "ExecuteTime": {
     "end_time": "2025-03-28T14:09:00.515168Z",
     "start_time": "2025-03-28T14:09:00.351180Z"
    }
   },
   "cell_type": "code",
   "source": [
    "user_movie_matrix = ratings.pivot_table(index='userId', columns='movieId', values='rating')\n",
    "user_movie_matrix.fillna(0, inplace=True)\n"
   ],
   "id": "13715112ec91c9e4",
   "outputs": [],
   "execution_count": 17
  },
  {
   "metadata": {},
   "cell_type": "markdown",
   "source": [
    "##  Calcul de la similarité entre utilisateurs\n",
    "Nous utilisons la similarité cosinus pour comparer les utilisateurs en fonction de leurs notes.\n"
   ],
   "id": "f65fd4ddf210c73e"
  },
  {
   "metadata": {
    "ExecuteTime": {
     "end_time": "2025-03-28T14:09:00.565812Z",
     "start_time": "2025-03-28T14:09:00.516102Z"
    }
   },
   "cell_type": "code",
   "source": [
    "user_similarity = cosine_similarity(user_movie_matrix)\n",
    "user_similarity_df = pd.DataFrame(user_similarity, index=user_movie_matrix.index, columns=user_movie_matrix.index)"
   ],
   "id": "f97abcc97e9ae593",
   "outputs": [],
   "execution_count": 18
  },
  {
   "metadata": {},
   "cell_type": "markdown",
   "source": [
    "##  Fonction pour nettoyer les titres de films\n",
    "Permet de supprimer ', The' et l'année de sortie d'un titre de film."
   ],
   "id": "cd8d90baba33a514"
  },
  {
   "metadata": {
    "ExecuteTime": {
     "end_time": "2025-03-28T14:09:00.570519Z",
     "start_time": "2025-03-28T14:09:00.566731Z"
    }
   },
   "cell_type": "code",
   "source": [
    "def clean_movie_title(title):\n",
    "    title = re.sub(r'\\s*\\(\\d{4}\\)$', '', title)  # Supprimer l'année\n",
    "    match = re.match(r'^(.*), (The|A|An)$', title)\n",
    "    return f\"{match.group(2)} {match.group(1)}\" if match else title"
   ],
   "id": "c51bc0275e149bdb",
   "outputs": [],
   "execution_count": 19
  },
  {
   "metadata": {},
   "cell_type": "markdown",
   "source": [
    "##  Fonction pour récupérer l'affiche d'un film\n",
    "Nous utilisons l'API OMDb pour récupérer les affiches des films."
   ],
   "id": "7df85d8e95940b82"
  },
  {
   "metadata": {
    "ExecuteTime": {
     "end_time": "2025-03-28T14:09:00.577220Z",
     "start_time": "2025-03-28T14:09:00.572606Z"
    }
   },
   "cell_type": "code",
   "source": [
    "def get_movie_poster(title):\n",
    "    api_key = \"1d34d942\"\n",
    "    cleaned_title = clean_movie_title(title)\n",
    "    url = f\"http://www.omdbapi.com/?t={cleaned_title}&apikey={api_key}\"\n",
    "    response = requests.get(url).json()\n",
    "    return response[\"Poster\"] if \"Poster\" in response and response[\"Poster\"] != \"N/A\" else \"https://via.placeholder.com/150\""
   ],
   "id": "1795da01a1b7492a",
   "outputs": [],
   "execution_count": 20
  },
  {
   "metadata": {},
   "cell_type": "markdown",
   "source": [
    "##  Système de recommandation hybride\n",
    "Combine le filtrage collaboratif et basé sur le contenu pour recommander des films."
   ],
   "id": "b616a210cdc214cd"
  },
  {
   "metadata": {
    "ExecuteTime": {
     "end_time": "2025-03-28T14:09:00.586042Z",
     "start_time": "2025-03-28T14:09:00.579973Z"
    }
   },
   "cell_type": "code",
   "source": [
    "def HybridRecommender(user_id, top_n=3):\n",
    "    similar_users = user_similarity_df[user_id].drop(user_id)\n",
    "    similar_users = similar_users[similar_users > 0]\n",
    "    if similar_users.empty:\n",
    "        return []\n",
    "\n",
    "    movie_scores = {}\n",
    "    for similar_user, similarity in similar_users.items():\n",
    "        rated_movies = user_movie_matrix.loc[similar_user][user_movie_matrix.loc[similar_user] > 0]\n",
    "        for movie, rating in rated_movies.items():\n",
    "            movie_scores[movie] = movie_scores.get(movie, 0) + rating * similarity\n",
    "\n",
    "    movie_scores = pd.Series(movie_scores).sort_values(ascending=False)\n",
    "    user_watched_movies = user_movie_matrix.loc[user_id][user_movie_matrix.loc[user_id] > 0].index\n",
    "    recommended_movie_ids = [movie for movie in movie_scores.index if movie not in user_watched_movies][:top_n]\n",
    "\n",
    "    content_scores = {}\n",
    "    for movie_id in recommended_movie_ids:\n",
    "        similar_movies = content_similarity_df[movie_id].sort_values(ascending=False)\n",
    "        similar_movies = similar_movies[similar_movies.index != movie_id].head(top_n)\n",
    "        for similar_movie, similarity in similar_movies.items():\n",
    "            if similar_movie not in recommended_movie_ids:\n",
    "                content_scores[similar_movie] = content_scores.get(similar_movie, 0) + similarity\n",
    "\n",
    "    hybrid_scores = pd.Series({**movie_scores.to_dict(), **content_scores}).sort_values(ascending=False)\n",
    "    recommended_movies = movies[movies['movieId'].isin(hybrid_scores.index[:top_n])][['title', 'movieId']]\n",
    "\n",
    "    return [(row['title'], get_movie_poster(row['title'])) for _, row in recommended_movies.iterrows()]"
   ],
   "id": "b1c27123057e36c5",
   "outputs": [],
   "execution_count": 21
  },
  {
   "metadata": {},
   "cell_type": "markdown",
   "source": [
    "##  Interface utilisateur avec Streamlit\n",
    "Interface simple permettant de générer des recommandations en entrant un ID utilisateur."
   ],
   "id": "890fa55a1304e7bd"
  },
  {
   "metadata": {
    "ExecuteTime": {
     "end_time": "2025-03-28T14:09:00.600137Z",
     "start_time": "2025-03-28T14:09:00.587656Z"
    }
   },
   "cell_type": "code",
   "source": [
    "st.title(\"🎬 Système de Recommandation de Films\")\n",
    "user_id = st.number_input(\"Entrez votre ID utilisateur :\", min_value=1, step=1)\n",
    "if st.button(\"Recommander\"):\n",
    "    with st.spinner(\"Génération des recommandations...\"):\n",
    "        recommendations = HybridRecommender(user_id)\n",
    "    if recommendations:\n",
    "        st.subheader(\"📌 Films recommandés :\")\n",
    "        for title, poster_url in recommendations:\n",
    "            st.image(poster_url, caption=title, width=200)\n",
    "    else:\n",
    "        st.warning(\"Aucune recommandation disponible pour cet utilisateur.\")"
   ],
   "id": "4ea0ff6c839d00fe",
   "outputs": [
    {
     "name": "stderr",
     "output_type": "stream",
     "text": [
      "2025-03-28 10:09:00.589 Thread 'MainThread': missing ScriptRunContext! This warning can be ignored when running in bare mode.\n",
      "2025-03-28 10:09:00.591 Thread 'MainThread': missing ScriptRunContext! This warning can be ignored when running in bare mode.\n",
      "2025-03-28 10:09:00.592 Thread 'MainThread': missing ScriptRunContext! This warning can be ignored when running in bare mode.\n",
      "2025-03-28 10:09:00.593 Thread 'MainThread': missing ScriptRunContext! This warning can be ignored when running in bare mode.\n",
      "2025-03-28 10:09:00.594 Thread 'MainThread': missing ScriptRunContext! This warning can be ignored when running in bare mode.\n",
      "2025-03-28 10:09:00.595 Thread 'MainThread': missing ScriptRunContext! This warning can be ignored when running in bare mode.\n",
      "2025-03-28 10:09:00.596 Thread 'MainThread': missing ScriptRunContext! This warning can be ignored when running in bare mode.\n",
      "2025-03-28 10:09:00.596 Thread 'MainThread': missing ScriptRunContext! This warning can be ignored when running in bare mode.\n",
      "2025-03-28 10:09:00.596 Thread 'MainThread': missing ScriptRunContext! This warning can be ignored when running in bare mode.\n",
      "2025-03-28 10:09:00.597 Thread 'MainThread': missing ScriptRunContext! This warning can be ignored when running in bare mode.\n",
      "2025-03-28 10:09:00.597 Thread 'MainThread': missing ScriptRunContext! This warning can be ignored when running in bare mode.\n",
      "2025-03-28 10:09:00.598 Thread 'MainThread': missing ScriptRunContext! This warning can be ignored when running in bare mode.\n",
      "2025-03-28 10:09:00.598 Thread 'MainThread': missing ScriptRunContext! This warning can be ignored when running in bare mode.\n"
     ]
    }
   ],
   "execution_count": 22
  },
  {
   "metadata": {},
   "cell_type": "markdown",
   "source": [
    "##  Affichage des affiches de films sans Streamlit\n",
    "Utilisation de IPython pour afficher les affiches directement dans le notebook."
   ],
   "id": "d350aaea695cd5f4"
  },
  {
   "metadata": {},
   "cell_type": "code",
   "outputs": [],
   "execution_count": null,
   "source": [
    "if recommendations:\n",
    "    for title, poster_url in recommendations:\n",
    "        image = Image.open(urllib.request.urlopen(poster_url))\n",
    "        display.display(image)\n",
    "        print(title)"
   ],
   "id": "88abd1ca61277696"
  }
 ],
 "metadata": {
  "kernelspec": {
   "display_name": "Python 3",
   "language": "python",
   "name": "python3"
  },
  "language_info": {
   "codemirror_mode": {
    "name": "ipython",
    "version": 2
   },
   "file_extension": ".py",
   "mimetype": "text/x-python",
   "name": "python",
   "nbconvert_exporter": "python",
   "pygments_lexer": "ipython2",
   "version": "2.7.6"
  }
 },
 "nbformat": 4,
 "nbformat_minor": 5
}
